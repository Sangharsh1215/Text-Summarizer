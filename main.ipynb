{
 "cells": [
  {
   "cell_type": "code",
   "execution_count": 3,
   "metadata": {},
   "outputs": [],
   "source": [
    "import spacy\n",
    "import pandas as pd\n",
    "import numpy as np \n",
    "from spacy.lang.en.stop_words import STOP_WORDS\n",
    "from string import punctuation"
   ]
  },
  {
   "cell_type": "code",
   "execution_count": 4,
   "metadata": {},
   "outputs": [],
   "source": [
    "sw = list(STOP_WORDS)"
   ]
  },
  {
   "cell_type": "code",
   "execution_count": 5,
   "metadata": {},
   "outputs": [
    {
     "data": {
      "text/plain": [
       "['see',\n",
       " 'else',\n",
       " 'its',\n",
       " 'yours',\n",
       " 'now',\n",
       " 'wherein',\n",
       " 'something',\n",
       " 'did',\n",
       " '‘d',\n",
       " 'n’t',\n",
       " 'alone',\n",
       " 'myself',\n",
       " 'i',\n",
       " 'call',\n",
       " 'would',\n",
       " 'being',\n",
       " 'was',\n",
       " 'whereas',\n",
       " 'third',\n",
       " 'on',\n",
       " 'hereby',\n",
       " 'one',\n",
       " 'done',\n",
       " 'twelve',\n",
       " \"'ve\",\n",
       " 'front',\n",
       " 'either',\n",
       " 'seeming',\n",
       " 'show',\n",
       " 'former',\n",
       " 'throughout',\n",
       " 'already',\n",
       " 'has',\n",
       " 'since',\n",
       " 'well',\n",
       " 'none',\n",
       " 'more',\n",
       " 'much',\n",
       " 'when',\n",
       " \"'d\",\n",
       " 'sometime',\n",
       " 'everyone',\n",
       " 'by',\n",
       " 'against',\n",
       " 'through',\n",
       " 'due',\n",
       " 'please',\n",
       " 'moreover',\n",
       " 'among',\n",
       " 'were',\n",
       " 're',\n",
       " 'whenever',\n",
       " 'keep',\n",
       " 'whereby',\n",
       " 'namely',\n",
       " 'hereafter',\n",
       " 'we',\n",
       " 'too',\n",
       " 'therein',\n",
       " 'same',\n",
       " 'sometimes',\n",
       " 'perhaps',\n",
       " '‘re',\n",
       " \"'ll\",\n",
       " 'forty',\n",
       " 'empty',\n",
       " '’d',\n",
       " 'otherwise',\n",
       " 'often',\n",
       " 'here',\n",
       " 'never',\n",
       " 'until',\n",
       " 'first',\n",
       " 'across',\n",
       " 'however',\n",
       " 'before',\n",
       " 'though',\n",
       " 'been',\n",
       " 'four',\n",
       " 'below',\n",
       " 'make',\n",
       " 'for',\n",
       " 'most',\n",
       " 'ten',\n",
       " 'ourselves',\n",
       " 'they',\n",
       " 'sixty',\n",
       " 'once',\n",
       " 'towards',\n",
       " 'can',\n",
       " 'unless',\n",
       " 'onto',\n",
       " 'thru',\n",
       " 'someone',\n",
       " 'as',\n",
       " 'toward',\n",
       " 'whether',\n",
       " 'still',\n",
       " 'although',\n",
       " 'somehow',\n",
       " 'becomes',\n",
       " 'eight',\n",
       " 'whence',\n",
       " 'meanwhile',\n",
       " 'do',\n",
       " 'their',\n",
       " 'both',\n",
       " 'these',\n",
       " 'thence',\n",
       " 'further',\n",
       " 'where',\n",
       " '‘m',\n",
       " 'nobody',\n",
       " 'ca',\n",
       " 'a',\n",
       " 'last',\n",
       " 'hundred',\n",
       " 'name',\n",
       " 'of',\n",
       " 'the',\n",
       " 'just',\n",
       " 'ours',\n",
       " 'within',\n",
       " 'take',\n",
       " 'nowhere',\n",
       " 'seemed',\n",
       " 'everything',\n",
       " 'it',\n",
       " 'again',\n",
       " 'or',\n",
       " 'nine',\n",
       " 'least',\n",
       " '’m',\n",
       " 'should',\n",
       " 'another',\n",
       " 'therefore',\n",
       " 'such',\n",
       " 'top',\n",
       " 'she',\n",
       " 'seem',\n",
       " '’ve',\n",
       " 'together',\n",
       " 'if',\n",
       " 'full',\n",
       " 'whole',\n",
       " 'doing',\n",
       " 'while',\n",
       " 'without',\n",
       " 'nothing',\n",
       " 'almost',\n",
       " 'herself',\n",
       " 'n‘t',\n",
       " 'few',\n",
       " 'yourself',\n",
       " 'many',\n",
       " 'whatever',\n",
       " 'up',\n",
       " 'thus',\n",
       " 'move',\n",
       " 'yet',\n",
       " 'beforehand',\n",
       " 'each',\n",
       " 'go',\n",
       " 'and',\n",
       " 'made',\n",
       " 'any',\n",
       " 'how',\n",
       " 'be',\n",
       " 'whereupon',\n",
       " 'several',\n",
       " 'somewhere',\n",
       " 'our',\n",
       " 'hereupon',\n",
       " 'became',\n",
       " 'whom',\n",
       " 'bottom',\n",
       " 'wherever',\n",
       " 'get',\n",
       " 'those',\n",
       " 'twenty',\n",
       " 'could',\n",
       " 'whereafter',\n",
       " 'upon',\n",
       " 'other',\n",
       " 'not',\n",
       " 'give',\n",
       " 'own',\n",
       " 'all',\n",
       " 'some',\n",
       " 'thereupon',\n",
       " '’ll',\n",
       " 'me',\n",
       " '‘s',\n",
       " \"'s\",\n",
       " 'her',\n",
       " '’s',\n",
       " 'during',\n",
       " 'him',\n",
       " 'to',\n",
       " 'anything',\n",
       " 'fifty',\n",
       " 'which',\n",
       " 'three',\n",
       " 'this',\n",
       " 'very',\n",
       " 'himself',\n",
       " 'that',\n",
       " 'only',\n",
       " 'whither',\n",
       " 'am',\n",
       " 'will',\n",
       " 'is',\n",
       " 'becoming',\n",
       " 'whose',\n",
       " 'whoever',\n",
       " 'amount',\n",
       " 'who',\n",
       " 'anyway',\n",
       " 'everywhere',\n",
       " 'every',\n",
       " 'around',\n",
       " 'because',\n",
       " 'others',\n",
       " 'various',\n",
       " 'become',\n",
       " 'beside',\n",
       " \"n't\",\n",
       " 'next',\n",
       " 'with',\n",
       " 'six',\n",
       " 'except',\n",
       " 'herein',\n",
       " 'mine',\n",
       " 'amongst',\n",
       " 'are',\n",
       " 'then',\n",
       " 'latter',\n",
       " 'so',\n",
       " 'but',\n",
       " 'off',\n",
       " 'under',\n",
       " 'cannot',\n",
       " 'rather',\n",
       " 'regarding',\n",
       " 'an',\n",
       " '‘ve',\n",
       " 'ever',\n",
       " 'less',\n",
       " 'also',\n",
       " 'mostly',\n",
       " 'fifteen',\n",
       " 'serious',\n",
       " 'itself',\n",
       " 'part',\n",
       " 'via',\n",
       " 'put',\n",
       " 'you',\n",
       " 'enough',\n",
       " 'five',\n",
       " 'over',\n",
       " 'anyhow',\n",
       " 'side',\n",
       " 'about',\n",
       " 'them',\n",
       " 'he',\n",
       " 'neither',\n",
       " 'no',\n",
       " 'anyone',\n",
       " 'eleven',\n",
       " 'themselves',\n",
       " 'above',\n",
       " 'nor',\n",
       " 'have',\n",
       " \"'m\",\n",
       " 'in',\n",
       " 'seems',\n",
       " 'beyond',\n",
       " 'afterwards',\n",
       " 'two',\n",
       " 'used',\n",
       " 'thereby',\n",
       " 'anywhere',\n",
       " \"'re\",\n",
       " 'even',\n",
       " 'at',\n",
       " 'why',\n",
       " 'back',\n",
       " 'elsewhere',\n",
       " 'indeed',\n",
       " 'thereafter',\n",
       " 'always',\n",
       " 'latterly',\n",
       " 'my',\n",
       " 'formerly',\n",
       " 'had',\n",
       " 'between',\n",
       " 'from',\n",
       " 'using',\n",
       " 'yourselves',\n",
       " 'besides',\n",
       " 'down',\n",
       " '‘ll',\n",
       " 'does',\n",
       " 'really',\n",
       " 'along',\n",
       " 'must',\n",
       " 'hers',\n",
       " 'into',\n",
       " 'what',\n",
       " 'there',\n",
       " 'after',\n",
       " 'his',\n",
       " 'hence',\n",
       " 'may',\n",
       " 'your',\n",
       " 'say',\n",
       " 'might',\n",
       " 'behind',\n",
       " 'noone',\n",
       " 'nevertheless',\n",
       " 'than',\n",
       " '’re',\n",
       " 'us',\n",
       " 'quite',\n",
       " 'per',\n",
       " 'out']"
      ]
     },
     "execution_count": 5,
     "metadata": {},
     "output_type": "execute_result"
    }
   ],
   "source": [
    "sw"
   ]
  },
  {
   "cell_type": "code",
   "execution_count": 10,
   "metadata": {},
   "outputs": [],
   "source": [
    "nlp = spacy.load('en_core_web_sm')"
   ]
  },
  {
   "cell_type": "code",
   "execution_count": 11,
   "metadata": {},
   "outputs": [],
   "source": [
    "text=('A lonely elephant was looking for friends in the forest. The monkey declined to be the elephant’s friend because the elephant could not swing in the trees. The rabbit turned the elephant because it was too big to fit in the burrow. The frog refused to be the elephant’s friend because it could not jump. Every other animal said no to the poor elephant. The next day, all the animals in the forest were running away in fear. The elephant stopped a bear who said that the tiger was attacking them all. The elephant nicely asked the tiger to stop, but the tiger told the elephant to stay out of the way. The elephant proceeded to kick the tiger and scare it away. The other animals then realised that the elephant was the perfect size to be their friend.')\n"
   ]
  },
  {
   "cell_type": "code",
   "execution_count": 12,
   "metadata": {},
   "outputs": [],
   "source": [
    "doc = nlp(text)"
   ]
  },
  {
   "cell_type": "code",
   "execution_count": 13,
   "metadata": {},
   "outputs": [],
   "source": [
    "tokens = [token.text for token in doc]"
   ]
  },
  {
   "cell_type": "code",
   "execution_count": 14,
   "metadata": {},
   "outputs": [
    {
     "name": "stdout",
     "output_type": "stream",
     "text": [
      "['A', 'lonely', 'elephant', 'was', 'looking', 'for', 'friends', 'in', 'the', 'forest', '.', 'The', 'monkey', 'declined', 'to', 'be', 'the', 'elephant', '’s', 'friend', 'because', 'the', 'elephant', 'could', 'not', 'swing', 'in', 'the', 'trees', '.', 'The', 'rabbit', 'turned', 'the', 'elephant', 'because', 'it', 'was', 'too', 'big', 'to', 'fit', 'in', 'the', 'burrow', '.', 'The', 'frog', 'refused', 'to', 'be', 'the', 'elephant', '’s', 'friend', 'because', 'it', 'could', 'not', 'jump', '.', 'Every', 'other', 'animal', 'said', 'no', 'to', 'the', 'poor', 'elephant', '.', 'The', 'next', 'day', ',', 'all', 'the', 'animals', 'in', 'the', 'forest', 'were', 'running', 'away', 'in', 'fear', '.', 'The', 'elephant', 'stopped', 'a', 'bear', 'who', 'said', 'that', 'the', 'tiger', 'was', 'attacking', 'them', 'all', '.', 'The', 'elephant', 'nicely', 'asked', 'the', 'tiger', 'to', 'stop', ',', 'but', 'the', 'tiger', 'told', 'the', 'elephant', 'to', 'stay', 'out', 'of', 'the', 'way', '.', 'The', 'elephant', 'proceeded', 'to', 'kick', 'the', 'tiger', 'and', 'scare', 'it', 'away', '.', 'The', 'other', 'animals', 'then', 'realised', 'that', 'the', 'elephant', 'was', 'the', 'perfect', 'size', 'to', 'be', 'their', 'friend', '.']\n"
     ]
    }
   ],
   "source": [
    "print(tokens)"
   ]
  },
  {
   "cell_type": "code",
   "execution_count": 15,
   "metadata": {},
   "outputs": [
    {
     "data": {
      "text/plain": [
       "'!\"#$%&\\'()*+,-./:;<=>?@[\\\\]^_`{|}~'"
      ]
     },
     "execution_count": 15,
     "metadata": {},
     "output_type": "execute_result"
    }
   ],
   "source": [
    "punctuation"
   ]
  },
  {
   "cell_type": "code",
   "execution_count": 16,
   "metadata": {},
   "outputs": [],
   "source": [
    "punctuation = punctuation + '\\n'"
   ]
  },
  {
   "cell_type": "code",
   "execution_count": 18,
   "metadata": {},
   "outputs": [],
   "source": [
    "word_freq = {}\n",
    "for word in doc:\n",
    "    if word.text.lower() not in sw:\n",
    "        if word.text.lower() not in punctuation:\n",
    "            if word.text not in word_freq.keys():\n",
    "                word_freq[word.text] = 1\n",
    "            else:\n",
    "                word_freq[word.text] += 1\n"
   ]
  },
  {
   "cell_type": "code",
   "execution_count": 20,
   "metadata": {},
   "outputs": [
    {
     "name": "stdout",
     "output_type": "stream",
     "text": [
      "{'lonely': 1, 'elephant': 11, 'looking': 1, 'friends': 1, 'forest': 2, 'monkey': 1, 'declined': 1, 'friend': 3, 'swing': 1, 'trees': 1, 'rabbit': 1, 'turned': 1, 'big': 1, 'fit': 1, 'burrow': 1, 'frog': 1, 'refused': 1, 'jump': 1, 'animal': 1, 'said': 2, 'poor': 1, 'day': 1, 'animals': 2, 'running': 1, 'away': 2, 'fear': 1, 'stopped': 1, 'bear': 1, 'tiger': 4, 'attacking': 1, 'nicely': 1, 'asked': 1, 'stop': 1, 'told': 1, 'stay': 1, 'way': 1, 'proceeded': 1, 'kick': 1, 'scare': 1, 'realised': 1, 'perfect': 1, 'size': 1}\n"
     ]
    }
   ],
   "source": [
    "print(word_freq)"
   ]
  },
  {
   "cell_type": "code",
   "execution_count": 21,
   "metadata": {},
   "outputs": [],
   "source": [
    "max_freq = max(word_freq.values())"
   ]
  },
  {
   "cell_type": "code",
   "execution_count": 22,
   "metadata": {},
   "outputs": [
    {
     "data": {
      "text/plain": [
       "11"
      ]
     },
     "execution_count": 22,
     "metadata": {},
     "output_type": "execute_result"
    }
   ],
   "source": [
    "max_freq"
   ]
  },
  {
   "cell_type": "code",
   "execution_count": 24,
   "metadata": {},
   "outputs": [],
   "source": [
    "for word in word_freq.keys():\n",
    "    word_freq[word] = word_freq[word]/max_freq"
   ]
  },
  {
   "cell_type": "code",
   "execution_count": 25,
   "metadata": {},
   "outputs": [
    {
     "name": "stdout",
     "output_type": "stream",
     "text": [
      "{'lonely': 0.09090909090909091, 'elephant': 1.0, 'looking': 0.09090909090909091, 'friends': 0.09090909090909091, 'forest': 0.18181818181818182, 'monkey': 0.09090909090909091, 'declined': 0.09090909090909091, 'friend': 0.2727272727272727, 'swing': 0.09090909090909091, 'trees': 0.09090909090909091, 'rabbit': 0.09090909090909091, 'turned': 0.09090909090909091, 'big': 0.09090909090909091, 'fit': 0.09090909090909091, 'burrow': 0.09090909090909091, 'frog': 0.09090909090909091, 'refused': 0.09090909090909091, 'jump': 0.09090909090909091, 'animal': 0.09090909090909091, 'said': 0.18181818181818182, 'poor': 0.09090909090909091, 'day': 0.09090909090909091, 'animals': 0.18181818181818182, 'running': 0.09090909090909091, 'away': 0.18181818181818182, 'fear': 0.09090909090909091, 'stopped': 0.09090909090909091, 'bear': 0.09090909090909091, 'tiger': 0.36363636363636365, 'attacking': 0.09090909090909091, 'nicely': 0.09090909090909091, 'asked': 0.09090909090909091, 'stop': 0.09090909090909091, 'told': 0.09090909090909091, 'stay': 0.09090909090909091, 'way': 0.09090909090909091, 'proceeded': 0.09090909090909091, 'kick': 0.09090909090909091, 'scare': 0.09090909090909091, 'realised': 0.09090909090909091, 'perfect': 0.09090909090909091, 'size': 0.09090909090909091}\n"
     ]
    }
   ],
   "source": [
    "print(word_freq)"
   ]
  },
  {
   "cell_type": "code",
   "execution_count": 26,
   "metadata": {},
   "outputs": [],
   "source": [
    "sentence_tokens = [sent for sent in doc.sents]"
   ]
  },
  {
   "cell_type": "code",
   "execution_count": 27,
   "metadata": {},
   "outputs": [],
   "source": [
    "sent_sc = {}\n",
    "for sent in sentence_tokens:\n",
    "    for word in sent:\n",
    "        if word.text.lower() in word_freq.keys():\n",
    "            if sent not in sent_sc.keys():\n",
    "                sent_sc[sent] = word_freq[word.text.lower()]\n",
    "            else:\n",
    "                 sent_sc[sent] += word_freq[word.text.lower()]"
   ]
  },
  {
   "cell_type": "code",
   "execution_count": 28,
   "metadata": {},
   "outputs": [
    {
     "data": {
      "text/plain": [
       "{A lonely elephant was looking for friends in the forest.: 1.4545454545454544,\n",
       " The monkey declined to be the elephant’s friend because the elephant could not swing in the trees.: 2.6363636363636362,\n",
       " The rabbit turned the elephant because it was too big to fit in the burrow.: 1.4545454545454544,\n",
       " The frog refused to be the elephant’s friend because it could not jump.: 1.5454545454545454,\n",
       " Every other animal said no to the poor elephant.: 1.3636363636363638,\n",
       " The next day, all the animals in the forest were running away in fear.: 0.8181818181818182,\n",
       " The elephant stopped a bear who said that the tiger was attacking them all.: 1.818181818181818,\n",
       " The elephant nicely asked the tiger to stop, but the tiger told the elephant to stay out of the way.: 3.2727272727272725,\n",
       " The elephant proceeded to kick the tiger and scare it away.: 1.8181818181818181,\n",
       " The other animals then realised that the elephant was the perfect size to be their friend.: 1.727272727272727}"
      ]
     },
     "execution_count": 28,
     "metadata": {},
     "output_type": "execute_result"
    }
   ],
   "source": [
    "sent_sc"
   ]
  },
  {
   "cell_type": "code",
   "execution_count": 29,
   "metadata": {},
   "outputs": [],
   "source": [
    "from heapq import nlargest"
   ]
  },
  {
   "cell_type": "code",
   "execution_count": 30,
   "metadata": {},
   "outputs": [
    {
     "data": {
      "text/plain": [
       "3"
      ]
     },
     "execution_count": 30,
     "metadata": {},
     "output_type": "execute_result"
    }
   ],
   "source": [
    "select_len = int(len(sentence_tokens)*0.3)\n",
    "select_len"
   ]
  },
  {
   "cell_type": "code",
   "execution_count": 31,
   "metadata": {},
   "outputs": [],
   "source": [
    "summary = nlargest(select_len, sent_sc, key = sent_sc.get)"
   ]
  },
  {
   "cell_type": "code",
   "execution_count": 32,
   "metadata": {},
   "outputs": [
    {
     "data": {
      "text/plain": [
       "[The elephant nicely asked the tiger to stop, but the tiger told the elephant to stay out of the way.,\n",
       " The monkey declined to be the elephant’s friend because the elephant could not swing in the trees.,\n",
       " The elephant proceeded to kick the tiger and scare it away.]"
      ]
     },
     "execution_count": 32,
     "metadata": {},
     "output_type": "execute_result"
    }
   ],
   "source": [
    "summary"
   ]
  },
  {
   "cell_type": "code",
   "execution_count": null,
   "metadata": {},
   "outputs": [],
   "source": []
  }
 ],
 "metadata": {
  "kernelspec": {
   "display_name": "Python 3",
   "language": "python",
   "name": "python3"
  },
  "language_info": {
   "codemirror_mode": {
    "name": "ipython",
    "version": 3
   },
   "file_extension": ".py",
   "mimetype": "text/x-python",
   "name": "python",
   "nbconvert_exporter": "python",
   "pygments_lexer": "ipython3",
   "version": "3.11.5"
  }
 },
 "nbformat": 4,
 "nbformat_minor": 2
}
